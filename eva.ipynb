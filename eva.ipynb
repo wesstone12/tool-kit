{
 "cells": [
  {
   "cell_type": "code",
   "execution_count": 1,
   "metadata": {},
   "outputs": [],
   "source": [
    "from utilsforecast.losses import mase, mae, mape, rmse, smape\n",
    "def evaluate_performace(y_hist, y_true, y_pred, models):\n",
    "    y_true = y_true.merge(y_pred, how='left', on=['unique_id', 'ds'])\n",
    "    evaluation = {}\n",
    "    for model in models:\n",
    "        evaluation[model] = {}\n",
    "        for metric in [mase, mae, mape, rmse, smape]:\n",
    "            metric_name = metric.__name__\n",
    "            if metric_name == 'mase':\n",
    "                evaluation[model][metric_name] = metric(y_true['y'].values, \n",
    "                                                 y_true[model].values, \n",
    "                                                 y_hist['y'].values, seasonality=24)\n",
    "            else:\n",
    "                evaluation[model][metric_name] = metric(y_true['y'].values, y_true[model].values)\n",
    "    return pd.DataFrame(evaluation).T\n"
   ]
  }
 ],
 "metadata": {
  "kernelspec": {
   "display_name": ".venv",
   "language": "python",
   "name": "python3"
  },
  "language_info": {
   "codemirror_mode": {
    "name": "ipython",
    "version": 3
   },
   "file_extension": ".py",
   "mimetype": "text/x-python",
   "name": "python",
   "nbconvert_exporter": "python",
   "pygments_lexer": "ipython3",
   "version": "3.12.4"
  }
 },
 "nbformat": 4,
 "nbformat_minor": 2
}
